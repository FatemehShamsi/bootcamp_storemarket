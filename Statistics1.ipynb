{
 "cells": [
  {
   "cell_type": "markdown",
   "id": "ab5f3a99",
   "metadata": {},
   "source": [
    "<h1 align=center style=\"line-height:200%;font-family:vazir;color:#0099cc\">\n",
    "<font face=\"vazir\" color=\"#0099cc\" size=6>\n",
    "بررسی تاثیر تخفیف روی تعداد فروش\n",
    "</font>\n",
    "</h1>"
   ]
  },
  {
   "cell_type": "markdown",
   "id": "bb104da2",
   "metadata": {},
   "source": [
    "<p dir=rtl style=\"direction: rtl;text-align: justify;line-height:200%;font-family:vazir;font-size:medium\">\n",
    "<font face=\"vazir\" size=3>\n",
    "<span style=\"color:purple\"><b>مرحله اول:  </b></span>\n",
    "    لایبرری‌های لازم را\n",
    "    <code>import</code>\n",
    "    می‌کنیم.\n",
    "</font>\n",
    "</p>"
   ]
  },
  {
   "cell_type": "code",
   "execution_count": 1,
   "id": "e6dd98eb",
   "metadata": {},
   "outputs": [],
   "source": [
    "import numpy as np\n",
    "import pandas as pd\n",
    "import scipy.stats as st\n",
    "import math\n",
    "import matplotlib.pyplot as plt\n",
    "import seaborn as sns"
   ]
  },
  {
   "cell_type": "markdown",
   "id": "9b15be6e",
   "metadata": {},
   "source": [
    "<p dir=rtl style=\"direction: rtl;text-align: justify;line-height:200%;font-family:vazir;font-size:medium\">\n",
    "<font face=\"vazir\" size=3>\n",
    "<span style=\"color:purple\"><b>مرحله دوم:  </b></span>\n",
    "    داده‌های لازم را به دو دسته تخفیف‌دار و غیر تخفیف‌دار تقسیم می‌کنیم.\n",
    "</font>\n",
    "</p>"
   ]
  },
  {
   "cell_type": "code",
   "execution_count": 2,
   "id": "475dda4b",
   "metadata": {
    "collapsed": true
   },
   "outputs": [
    {
     "data": {
      "text/html": [
       "<div>\n",
       "<style scoped>\n",
       "    .dataframe tbody tr th:only-of-type {\n",
       "        vertical-align: middle;\n",
       "    }\n",
       "\n",
       "    .dataframe tbody tr th {\n",
       "        vertical-align: top;\n",
       "    }\n",
       "\n",
       "    .dataframe thead th {\n",
       "        text-align: right;\n",
       "    }\n",
       "</style>\n",
       "<table border=\"1\" class=\"dataframe\">\n",
       "  <thead>\n",
       "    <tr style=\"text-align: right;\">\n",
       "      <th></th>\n",
       "      <th>Order ID</th>\n",
       "      <th>Customer ID</th>\n",
       "      <th>Order Priority</th>\n",
       "      <th>Row ID</th>\n",
       "      <th>Product ID</th>\n",
       "      <th>Sales</th>\n",
       "      <th>Quantity</th>\n",
       "      <th>Discount</th>\n",
       "      <th>Profit</th>\n",
       "      <th>Shipping Cost</th>\n",
       "      <th>Ship Mode</th>\n",
       "      <th>returned</th>\n",
       "      <th>Ship_Date_ID</th>\n",
       "      <th>Order_Date_ID</th>\n",
       "      <th>Geography_ID</th>\n",
       "    </tr>\n",
       "  </thead>\n",
       "  <tbody>\n",
       "    <tr>\n",
       "      <th>0</th>\n",
       "      <td>CA-2012-124891</td>\n",
       "      <td>RH-19495</td>\n",
       "      <td>Critical</td>\n",
       "      <td>32298</td>\n",
       "      <td>TEC-AC-10003033</td>\n",
       "      <td>2309.650</td>\n",
       "      <td>7</td>\n",
       "      <td>0.0</td>\n",
       "      <td>762.1850</td>\n",
       "      <td>933.570</td>\n",
       "      <td>Same Day</td>\n",
       "      <td>0.0</td>\n",
       "      <td>20120731</td>\n",
       "      <td>20120731</td>\n",
       "      <td>NNUE-21043</td>\n",
       "    </tr>\n",
       "    <tr>\n",
       "      <th>1</th>\n",
       "      <td>CA-2012-124891</td>\n",
       "      <td>RH-19495</td>\n",
       "      <td>Critical</td>\n",
       "      <td>32299</td>\n",
       "      <td>FUR-TA-10002903</td>\n",
       "      <td>1090.780</td>\n",
       "      <td>7</td>\n",
       "      <td>0.4</td>\n",
       "      <td>-290.8750</td>\n",
       "      <td>348.180</td>\n",
       "      <td>Same Day</td>\n",
       "      <td>0.0</td>\n",
       "      <td>20120731</td>\n",
       "      <td>20120731</td>\n",
       "      <td>NNUE-21043</td>\n",
       "    </tr>\n",
       "    <tr>\n",
       "      <th>2</th>\n",
       "      <td>CA-2012-124891</td>\n",
       "      <td>RH-19495</td>\n",
       "      <td>Critical</td>\n",
       "      <td>32300</td>\n",
       "      <td>OFF-PA-10004621</td>\n",
       "      <td>19.440</td>\n",
       "      <td>3</td>\n",
       "      <td>0.0</td>\n",
       "      <td>9.3312</td>\n",
       "      <td>7.240</td>\n",
       "      <td>Same Day</td>\n",
       "      <td>0.0</td>\n",
       "      <td>20120731</td>\n",
       "      <td>20120731</td>\n",
       "      <td>NNUE-21043</td>\n",
       "    </tr>\n",
       "    <tr>\n",
       "      <th>3</th>\n",
       "      <td>IN-2013-77878</td>\n",
       "      <td>JR-16210</td>\n",
       "      <td>Critical</td>\n",
       "      <td>26339</td>\n",
       "      <td>TEC-CO-10000660</td>\n",
       "      <td>344.682</td>\n",
       "      <td>2</td>\n",
       "      <td>0.1</td>\n",
       "      <td>34.4220</td>\n",
       "      <td>65.350</td>\n",
       "      <td>Second Class</td>\n",
       "      <td>1.0</td>\n",
       "      <td>20130207</td>\n",
       "      <td>20130205</td>\n",
       "      <td>WNAO-21044</td>\n",
       "    </tr>\n",
       "    <tr>\n",
       "      <th>4</th>\n",
       "      <td>IN-2013-77878</td>\n",
       "      <td>JR-16210</td>\n",
       "      <td>Critical</td>\n",
       "      <td>26340</td>\n",
       "      <td>OFF-ST-10001366</td>\n",
       "      <td>133.920</td>\n",
       "      <td>5</td>\n",
       "      <td>0.1</td>\n",
       "      <td>-6.0300</td>\n",
       "      <td>41.640</td>\n",
       "      <td>Second Class</td>\n",
       "      <td>1.0</td>\n",
       "      <td>20130207</td>\n",
       "      <td>20130205</td>\n",
       "      <td>WNAO-21044</td>\n",
       "    </tr>\n",
       "    <tr>\n",
       "      <th>...</th>\n",
       "      <td>...</td>\n",
       "      <td>...</td>\n",
       "      <td>...</td>\n",
       "      <td>...</td>\n",
       "      <td>...</td>\n",
       "      <td>...</td>\n",
       "      <td>...</td>\n",
       "      <td>...</td>\n",
       "      <td>...</td>\n",
       "      <td>...</td>\n",
       "      <td>...</td>\n",
       "      <td>...</td>\n",
       "      <td>...</td>\n",
       "      <td>...</td>\n",
       "      <td>...</td>\n",
       "    </tr>\n",
       "    <tr>\n",
       "      <th>49665</th>\n",
       "      <td>ZI-2011-4350</td>\n",
       "      <td>AS-285</td>\n",
       "      <td>Medium</td>\n",
       "      <td>46231</td>\n",
       "      <td>OFF-SAN-10001862</td>\n",
       "      <td>9.612</td>\n",
       "      <td>2</td>\n",
       "      <td>0.7</td>\n",
       "      <td>-21.1680</td>\n",
       "      <td>0.020</td>\n",
       "      <td>Standard Class</td>\n",
       "      <td>0.0</td>\n",
       "      <td>20110326</td>\n",
       "      <td>20110321</td>\n",
       "      <td>HHZA-46071</td>\n",
       "    </tr>\n",
       "    <tr>\n",
       "      <th>49666</th>\n",
       "      <td>MX-2014-169530</td>\n",
       "      <td>HG-15025</td>\n",
       "      <td>High</td>\n",
       "      <td>6039</td>\n",
       "      <td>OFF-PA-10002418</td>\n",
       "      <td>84.000</td>\n",
       "      <td>5</td>\n",
       "      <td>0.0</td>\n",
       "      <td>9.2000</td>\n",
       "      <td>0.019</td>\n",
       "      <td>First Class</td>\n",
       "      <td>0.0</td>\n",
       "      <td>20140611</td>\n",
       "      <td>20140609</td>\n",
       "      <td>BSBS-46072</td>\n",
       "    </tr>\n",
       "    <tr>\n",
       "      <th>49667</th>\n",
       "      <td>IN-2014-72327</td>\n",
       "      <td>KH-16330</td>\n",
       "      <td>High</td>\n",
       "      <td>24105</td>\n",
       "      <td>OFF-PA-10000215</td>\n",
       "      <td>26.940</td>\n",
       "      <td>2</td>\n",
       "      <td>0.0</td>\n",
       "      <td>1.8600</td>\n",
       "      <td>0.010</td>\n",
       "      <td>Same Day</td>\n",
       "      <td>0.0</td>\n",
       "      <td>20140530</td>\n",
       "      <td>20140530</td>\n",
       "      <td>LUIC-46073</td>\n",
       "    </tr>\n",
       "    <tr>\n",
       "      <th>49668</th>\n",
       "      <td>IN-2014-57662</td>\n",
       "      <td>DB-13270</td>\n",
       "      <td>Medium</td>\n",
       "      <td>24175</td>\n",
       "      <td>OFF-BI-10002424</td>\n",
       "      <td>58.050</td>\n",
       "      <td>5</td>\n",
       "      <td>0.1</td>\n",
       "      <td>19.9500</td>\n",
       "      <td>0.010</td>\n",
       "      <td>Standard Class</td>\n",
       "      <td>0.0</td>\n",
       "      <td>20140810</td>\n",
       "      <td>20140805</td>\n",
       "      <td>TQAO-46074</td>\n",
       "    </tr>\n",
       "    <tr>\n",
       "      <th>49669</th>\n",
       "      <td>MX-2012-134460</td>\n",
       "      <td>MC-18100</td>\n",
       "      <td>High</td>\n",
       "      <td>6147</td>\n",
       "      <td>OFF-PA-10004155</td>\n",
       "      <td>61.380</td>\n",
       "      <td>3</td>\n",
       "      <td>0.0</td>\n",
       "      <td>1.8000</td>\n",
       "      <td>0.002</td>\n",
       "      <td>Second Class</td>\n",
       "      <td>0.0</td>\n",
       "      <td>20120526</td>\n",
       "      <td>20120522</td>\n",
       "      <td>TMNC-46075</td>\n",
       "    </tr>\n",
       "  </tbody>\n",
       "</table>\n",
       "<p>49670 rows × 15 columns</p>\n",
       "</div>"
      ],
      "text/plain": [
       "             Order ID Customer ID Order Priority  Row ID        Product ID  \\\n",
       "0      CA-2012-124891    RH-19495       Critical   32298   TEC-AC-10003033   \n",
       "1      CA-2012-124891    RH-19495       Critical   32299   FUR-TA-10002903   \n",
       "2      CA-2012-124891    RH-19495       Critical   32300   OFF-PA-10004621   \n",
       "3       IN-2013-77878    JR-16210       Critical   26339   TEC-CO-10000660   \n",
       "4       IN-2013-77878    JR-16210       Critical   26340   OFF-ST-10001366   \n",
       "...               ...         ...            ...     ...               ...   \n",
       "49665    ZI-2011-4350      AS-285         Medium   46231  OFF-SAN-10001862   \n",
       "49666  MX-2014-169530    HG-15025           High    6039   OFF-PA-10002418   \n",
       "49667   IN-2014-72327    KH-16330           High   24105   OFF-PA-10000215   \n",
       "49668   IN-2014-57662    DB-13270         Medium   24175   OFF-BI-10002424   \n",
       "49669  MX-2012-134460    MC-18100           High    6147   OFF-PA-10004155   \n",
       "\n",
       "          Sales  Quantity  Discount    Profit  Shipping Cost       Ship Mode  \\\n",
       "0      2309.650         7       0.0  762.1850        933.570        Same Day   \n",
       "1      1090.780         7       0.4 -290.8750        348.180        Same Day   \n",
       "2        19.440         3       0.0    9.3312          7.240        Same Day   \n",
       "3       344.682         2       0.1   34.4220         65.350    Second Class   \n",
       "4       133.920         5       0.1   -6.0300         41.640    Second Class   \n",
       "...         ...       ...       ...       ...            ...             ...   \n",
       "49665     9.612         2       0.7  -21.1680          0.020  Standard Class   \n",
       "49666    84.000         5       0.0    9.2000          0.019     First Class   \n",
       "49667    26.940         2       0.0    1.8600          0.010        Same Day   \n",
       "49668    58.050         5       0.1   19.9500          0.010  Standard Class   \n",
       "49669    61.380         3       0.0    1.8000          0.002    Second Class   \n",
       "\n",
       "       returned  Ship_Date_ID  Order_Date_ID Geography_ID  \n",
       "0           0.0      20120731       20120731   NNUE-21043  \n",
       "1           0.0      20120731       20120731   NNUE-21043  \n",
       "2           0.0      20120731       20120731   NNUE-21043  \n",
       "3           1.0      20130207       20130205   WNAO-21044  \n",
       "4           1.0      20130207       20130205   WNAO-21044  \n",
       "...         ...           ...            ...          ...  \n",
       "49665       0.0      20110326       20110321   HHZA-46071  \n",
       "49666       0.0      20140611       20140609   BSBS-46072  \n",
       "49667       0.0      20140530       20140530   LUIC-46073  \n",
       "49668       0.0      20140810       20140805   TQAO-46074  \n",
       "49669       0.0      20120526       20120522   TMNC-46075  \n",
       "\n",
       "[49670 rows x 15 columns]"
      ]
     },
     "execution_count": 2,
     "metadata": {},
     "output_type": "execute_result"
    }
   ],
   "source": [
    "df = pd.read_csv(\"./facts.csv\")\n",
    "df"
   ]
  },
  {
   "cell_type": "code",
   "execution_count": 3,
   "id": "669aa2c6",
   "metadata": {},
   "outputs": [],
   "source": [
    "x = list(df[df.Discount == 0][\"Quantity\"])\n",
    "y = list(df[df.Discount != 0][\"Quantity\"])"
   ]
  },
  {
   "cell_type": "markdown",
   "id": "b95a49f0",
   "metadata": {},
   "source": [
    "<p dir=rtl style=\"direction: rtl;text-align: justify;line-height:200%;font-family:vazir;font-size:medium\">\n",
    "<font face=\"vazir\" size=3>\n",
    "<span style=\"color:purple\"><b>مرحله سوم:  </b></span>\n",
    "    نمودار مربوط به توزیع هر دسته را رسم می‌کنیم و سپس میانگین هر دسته را بررسی می‌کنیم.\n",
    "</font>\n",
    "</p>"
   ]
  },
  {
   "cell_type": "code",
   "execution_count": 4,
   "id": "0e8d8945",
   "metadata": {
    "collapsed": true
   },
   "outputs": [
    {
     "ename": "OptionError",
     "evalue": "\"No such keys(s): 'mode.use_inf_as_null'\"",
     "output_type": "error",
     "traceback": [
      "\u001b[0;31m---------------------------------------------------------------------------\u001b[0m",
      "\u001b[0;31mOptionError\u001b[0m                               Traceback (most recent call last)",
      "Cell \u001b[0;32mIn[4], line 6\u001b[0m\n\u001b[1;32m      4\u001b[0m ax[\u001b[38;5;241m0\u001b[39m]\u001b[38;5;241m.\u001b[39mset_xlabel(\u001b[38;5;124m\"\u001b[39m\u001b[38;5;124mQuantity\u001b[39m\u001b[38;5;124m\"\u001b[39m)\n\u001b[1;32m      5\u001b[0m ax[\u001b[38;5;241m0\u001b[39m]\u001b[38;5;241m.\u001b[39mset_ylabel(\u001b[38;5;124m\"\u001b[39m\u001b[38;5;124mFrequency\u001b[39m\u001b[38;5;124m\"\u001b[39m)\n\u001b[0;32m----> 6\u001b[0m \u001b[43msns\u001b[49m\u001b[38;5;241;43m.\u001b[39;49m\u001b[43mhistplot\u001b[49m\u001b[43m(\u001b[49m\u001b[43mx\u001b[49m\u001b[43m,\u001b[49m\u001b[43m \u001b[49m\u001b[43mbins\u001b[49m\u001b[38;5;241;43m=\u001b[39;49m\u001b[43m \u001b[49m\u001b[38;5;241;43m14\u001b[39;49m\u001b[43m,\u001b[49m\u001b[43m \u001b[49m\u001b[43mkde\u001b[49m\u001b[38;5;241;43m=\u001b[39;49m\u001b[38;5;28;43;01mTrue\u001b[39;49;00m\u001b[43m,\u001b[49m\u001b[43m \u001b[49m\u001b[43max\u001b[49m\u001b[38;5;241;43m=\u001b[39;49m\u001b[43max\u001b[49m\u001b[43m[\u001b[49m\u001b[38;5;241;43m0\u001b[39;49m\u001b[43m]\u001b[49m\u001b[43m)\u001b[49m\n\u001b[1;32m      8\u001b[0m ax[\u001b[38;5;241m1\u001b[39m]\u001b[38;5;241m.\u001b[39mset_title(\u001b[38;5;124m\"\u001b[39m\u001b[38;5;124mHistogram of Quantity Where Discount != 0\u001b[39m\u001b[38;5;124m\"\u001b[39m)\n\u001b[1;32m      9\u001b[0m ax[\u001b[38;5;241m1\u001b[39m]\u001b[38;5;241m.\u001b[39mset_xlabel(\u001b[38;5;124m\"\u001b[39m\u001b[38;5;124mQuantity\u001b[39m\u001b[38;5;124m\"\u001b[39m)\n",
      "File \u001b[0;32m~/.local/lib/python3.8/site-packages/seaborn/distributions.py:1432\u001b[0m, in \u001b[0;36mhistplot\u001b[0;34m(data, x, y, hue, weights, stat, bins, binwidth, binrange, discrete, cumulative, common_bins, common_norm, multiple, element, fill, shrink, kde, kde_kws, line_kws, thresh, pthresh, pmax, cbar, cbar_ax, cbar_kws, palette, hue_order, hue_norm, color, log_scale, legend, ax, **kwargs)\u001b[0m\n\u001b[1;32m   1421\u001b[0m estimate_kws \u001b[38;5;241m=\u001b[39m \u001b[38;5;28mdict\u001b[39m(\n\u001b[1;32m   1422\u001b[0m     stat\u001b[38;5;241m=\u001b[39mstat,\n\u001b[1;32m   1423\u001b[0m     bins\u001b[38;5;241m=\u001b[39mbins,\n\u001b[0;32m   (...)\u001b[0m\n\u001b[1;32m   1427\u001b[0m     cumulative\u001b[38;5;241m=\u001b[39mcumulative,\n\u001b[1;32m   1428\u001b[0m )\n\u001b[1;32m   1430\u001b[0m \u001b[38;5;28;01mif\u001b[39;00m p\u001b[38;5;241m.\u001b[39munivariate:\n\u001b[0;32m-> 1432\u001b[0m     \u001b[43mp\u001b[49m\u001b[38;5;241;43m.\u001b[39;49m\u001b[43mplot_univariate_histogram\u001b[49m\u001b[43m(\u001b[49m\n\u001b[1;32m   1433\u001b[0m \u001b[43m        \u001b[49m\u001b[43mmultiple\u001b[49m\u001b[38;5;241;43m=\u001b[39;49m\u001b[43mmultiple\u001b[49m\u001b[43m,\u001b[49m\n\u001b[1;32m   1434\u001b[0m \u001b[43m        \u001b[49m\u001b[43melement\u001b[49m\u001b[38;5;241;43m=\u001b[39;49m\u001b[43melement\u001b[49m\u001b[43m,\u001b[49m\n\u001b[1;32m   1435\u001b[0m \u001b[43m        \u001b[49m\u001b[43mfill\u001b[49m\u001b[38;5;241;43m=\u001b[39;49m\u001b[43mfill\u001b[49m\u001b[43m,\u001b[49m\n\u001b[1;32m   1436\u001b[0m \u001b[43m        \u001b[49m\u001b[43mshrink\u001b[49m\u001b[38;5;241;43m=\u001b[39;49m\u001b[43mshrink\u001b[49m\u001b[43m,\u001b[49m\n\u001b[1;32m   1437\u001b[0m \u001b[43m        \u001b[49m\u001b[43mcommon_norm\u001b[49m\u001b[38;5;241;43m=\u001b[39;49m\u001b[43mcommon_norm\u001b[49m\u001b[43m,\u001b[49m\n\u001b[1;32m   1438\u001b[0m \u001b[43m        \u001b[49m\u001b[43mcommon_bins\u001b[49m\u001b[38;5;241;43m=\u001b[39;49m\u001b[43mcommon_bins\u001b[49m\u001b[43m,\u001b[49m\n\u001b[1;32m   1439\u001b[0m \u001b[43m        \u001b[49m\u001b[43mkde\u001b[49m\u001b[38;5;241;43m=\u001b[39;49m\u001b[43mkde\u001b[49m\u001b[43m,\u001b[49m\n\u001b[1;32m   1440\u001b[0m \u001b[43m        \u001b[49m\u001b[43mkde_kws\u001b[49m\u001b[38;5;241;43m=\u001b[39;49m\u001b[43mkde_kws\u001b[49m\u001b[43m,\u001b[49m\n\u001b[1;32m   1441\u001b[0m \u001b[43m        \u001b[49m\u001b[43mcolor\u001b[49m\u001b[38;5;241;43m=\u001b[39;49m\u001b[43mcolor\u001b[49m\u001b[43m,\u001b[49m\n\u001b[1;32m   1442\u001b[0m \u001b[43m        \u001b[49m\u001b[43mlegend\u001b[49m\u001b[38;5;241;43m=\u001b[39;49m\u001b[43mlegend\u001b[49m\u001b[43m,\u001b[49m\n\u001b[1;32m   1443\u001b[0m \u001b[43m        \u001b[49m\u001b[43mestimate_kws\u001b[49m\u001b[38;5;241;43m=\u001b[39;49m\u001b[43mestimate_kws\u001b[49m\u001b[43m,\u001b[49m\n\u001b[1;32m   1444\u001b[0m \u001b[43m        \u001b[49m\u001b[43mline_kws\u001b[49m\u001b[38;5;241;43m=\u001b[39;49m\u001b[43mline_kws\u001b[49m\u001b[43m,\u001b[49m\n\u001b[1;32m   1445\u001b[0m \u001b[43m        \u001b[49m\u001b[38;5;241;43m*\u001b[39;49m\u001b[38;5;241;43m*\u001b[39;49m\u001b[43mkwargs\u001b[49m\u001b[43m,\u001b[49m\n\u001b[1;32m   1446\u001b[0m \u001b[43m    \u001b[49m\u001b[43m)\u001b[49m\n\u001b[1;32m   1448\u001b[0m \u001b[38;5;28;01melse\u001b[39;00m:\n\u001b[1;32m   1450\u001b[0m     p\u001b[38;5;241m.\u001b[39mplot_bivariate_histogram(\n\u001b[1;32m   1451\u001b[0m         common_bins\u001b[38;5;241m=\u001b[39mcommon_bins,\n\u001b[1;32m   1452\u001b[0m         common_norm\u001b[38;5;241m=\u001b[39mcommon_norm,\n\u001b[0;32m   (...)\u001b[0m\n\u001b[1;32m   1462\u001b[0m         \u001b[38;5;241m*\u001b[39m\u001b[38;5;241m*\u001b[39mkwargs,\n\u001b[1;32m   1463\u001b[0m     )\n",
      "File \u001b[0;32m~/.local/lib/python3.8/site-packages/seaborn/distributions.py:430\u001b[0m, in \u001b[0;36m_DistributionPlotter.plot_univariate_histogram\u001b[0;34m(self, multiple, element, fill, common_norm, common_bins, shrink, kde, kde_kws, color, legend, line_kws, estimate_kws, **plot_kws)\u001b[0m\n\u001b[1;32m    427\u001b[0m histograms \u001b[38;5;241m=\u001b[39m {}\n\u001b[1;32m    429\u001b[0m \u001b[38;5;66;03m# Do pre-compute housekeeping related to multiple groups\u001b[39;00m\n\u001b[0;32m--> 430\u001b[0m all_data \u001b[38;5;241m=\u001b[39m \u001b[38;5;28;43mself\u001b[39;49m\u001b[38;5;241;43m.\u001b[39;49m\u001b[43mcomp_data\u001b[49m\u001b[38;5;241m.\u001b[39mdropna()\n\u001b[1;32m    431\u001b[0m all_weights \u001b[38;5;241m=\u001b[39m all_data\u001b[38;5;241m.\u001b[39mget(\u001b[38;5;124m\"\u001b[39m\u001b[38;5;124mweights\u001b[39m\u001b[38;5;124m\"\u001b[39m, \u001b[38;5;28;01mNone\u001b[39;00m)\n\u001b[1;32m    433\u001b[0m multiple_histograms \u001b[38;5;241m=\u001b[39m \u001b[38;5;28mset\u001b[39m(\u001b[38;5;28mself\u001b[39m\u001b[38;5;241m.\u001b[39mvariables) \u001b[38;5;241m-\u001b[39m {\u001b[38;5;124m\"\u001b[39m\u001b[38;5;124mx\u001b[39m\u001b[38;5;124m\"\u001b[39m, \u001b[38;5;124m\"\u001b[39m\u001b[38;5;124my\u001b[39m\u001b[38;5;124m\"\u001b[39m}\n",
      "File \u001b[0;32m~/.local/lib/python3.8/site-packages/seaborn/_oldcore.py:1119\u001b[0m, in \u001b[0;36mVectorPlotter.comp_data\u001b[0;34m(self)\u001b[0m\n\u001b[1;32m   1117\u001b[0m grouped \u001b[38;5;241m=\u001b[39m \u001b[38;5;28mself\u001b[39m\u001b[38;5;241m.\u001b[39mplot_data[var]\u001b[38;5;241m.\u001b[39mgroupby(\u001b[38;5;28mself\u001b[39m\u001b[38;5;241m.\u001b[39mconverters[var], sort\u001b[38;5;241m=\u001b[39m\u001b[38;5;28;01mFalse\u001b[39;00m)\n\u001b[1;32m   1118\u001b[0m \u001b[38;5;28;01mfor\u001b[39;00m converter, orig \u001b[38;5;129;01min\u001b[39;00m grouped:\n\u001b[0;32m-> 1119\u001b[0m     \u001b[38;5;28;01mwith\u001b[39;00m pd\u001b[38;5;241m.\u001b[39moption_context(\u001b[38;5;124m'\u001b[39m\u001b[38;5;124mmode.use_inf_as_null\u001b[39m\u001b[38;5;124m'\u001b[39m, \u001b[38;5;28;01mTrue\u001b[39;00m):\n\u001b[1;32m   1120\u001b[0m         orig \u001b[38;5;241m=\u001b[39m orig\u001b[38;5;241m.\u001b[39mdropna()\n\u001b[1;32m   1121\u001b[0m         \u001b[38;5;28;01mif\u001b[39;00m var \u001b[38;5;129;01min\u001b[39;00m \u001b[38;5;28mself\u001b[39m\u001b[38;5;241m.\u001b[39mvar_levels:\n\u001b[1;32m   1122\u001b[0m             \u001b[38;5;66;03m# TODO this should happen in some centralized location\u001b[39;00m\n\u001b[1;32m   1123\u001b[0m             \u001b[38;5;66;03m# it is similar to GH2419, but more complicated because\u001b[39;00m\n\u001b[1;32m   1124\u001b[0m             \u001b[38;5;66;03m# supporting `order` in categorical plots is tricky\u001b[39;00m\n",
      "File \u001b[0;32m~/.local/lib/python3.8/site-packages/pandas/_config/config.py:441\u001b[0m, in \u001b[0;36moption_context.__enter__\u001b[0;34m(self)\u001b[0m\n\u001b[1;32m    440\u001b[0m \u001b[38;5;28;01mdef\u001b[39;00m \u001b[38;5;21m__enter__\u001b[39m(\u001b[38;5;28mself\u001b[39m) \u001b[38;5;241m-\u001b[39m\u001b[38;5;241m>\u001b[39m \u001b[38;5;28;01mNone\u001b[39;00m:\n\u001b[0;32m--> 441\u001b[0m     \u001b[38;5;28mself\u001b[39m\u001b[38;5;241m.\u001b[39mundo \u001b[38;5;241m=\u001b[39m [(pat, _get_option(pat, silent\u001b[38;5;241m=\u001b[39m\u001b[38;5;28;01mTrue\u001b[39;00m)) \u001b[38;5;28;01mfor\u001b[39;00m pat, val \u001b[38;5;129;01min\u001b[39;00m \u001b[38;5;28mself\u001b[39m\u001b[38;5;241m.\u001b[39mops]\n\u001b[1;32m    443\u001b[0m     \u001b[38;5;28;01mfor\u001b[39;00m pat, val \u001b[38;5;129;01min\u001b[39;00m \u001b[38;5;28mself\u001b[39m\u001b[38;5;241m.\u001b[39mops:\n\u001b[1;32m    444\u001b[0m         _set_option(pat, val, silent\u001b[38;5;241m=\u001b[39m\u001b[38;5;28;01mTrue\u001b[39;00m)\n",
      "File \u001b[0;32m~/.local/lib/python3.8/site-packages/pandas/_config/config.py:441\u001b[0m, in \u001b[0;36m<listcomp>\u001b[0;34m(.0)\u001b[0m\n\u001b[1;32m    440\u001b[0m \u001b[38;5;28;01mdef\u001b[39;00m \u001b[38;5;21m__enter__\u001b[39m(\u001b[38;5;28mself\u001b[39m) \u001b[38;5;241m-\u001b[39m\u001b[38;5;241m>\u001b[39m \u001b[38;5;28;01mNone\u001b[39;00m:\n\u001b[0;32m--> 441\u001b[0m     \u001b[38;5;28mself\u001b[39m\u001b[38;5;241m.\u001b[39mundo \u001b[38;5;241m=\u001b[39m [(pat, \u001b[43m_get_option\u001b[49m\u001b[43m(\u001b[49m\u001b[43mpat\u001b[49m\u001b[43m,\u001b[49m\u001b[43m \u001b[49m\u001b[43msilent\u001b[49m\u001b[38;5;241;43m=\u001b[39;49m\u001b[38;5;28;43;01mTrue\u001b[39;49;00m\u001b[43m)\u001b[49m) \u001b[38;5;28;01mfor\u001b[39;00m pat, val \u001b[38;5;129;01min\u001b[39;00m \u001b[38;5;28mself\u001b[39m\u001b[38;5;241m.\u001b[39mops]\n\u001b[1;32m    443\u001b[0m     \u001b[38;5;28;01mfor\u001b[39;00m pat, val \u001b[38;5;129;01min\u001b[39;00m \u001b[38;5;28mself\u001b[39m\u001b[38;5;241m.\u001b[39mops:\n\u001b[1;32m    444\u001b[0m         _set_option(pat, val, silent\u001b[38;5;241m=\u001b[39m\u001b[38;5;28;01mTrue\u001b[39;00m)\n",
      "File \u001b[0;32m~/.local/lib/python3.8/site-packages/pandas/_config/config.py:135\u001b[0m, in \u001b[0;36m_get_option\u001b[0;34m(pat, silent)\u001b[0m\n\u001b[1;32m    134\u001b[0m \u001b[38;5;28;01mdef\u001b[39;00m \u001b[38;5;21m_get_option\u001b[39m(pat: \u001b[38;5;28mstr\u001b[39m, silent: \u001b[38;5;28mbool\u001b[39m \u001b[38;5;241m=\u001b[39m \u001b[38;5;28;01mFalse\u001b[39;00m) \u001b[38;5;241m-\u001b[39m\u001b[38;5;241m>\u001b[39m Any:\n\u001b[0;32m--> 135\u001b[0m     key \u001b[38;5;241m=\u001b[39m \u001b[43m_get_single_key\u001b[49m\u001b[43m(\u001b[49m\u001b[43mpat\u001b[49m\u001b[43m,\u001b[49m\u001b[43m \u001b[49m\u001b[43msilent\u001b[49m\u001b[43m)\u001b[49m\n\u001b[1;32m    137\u001b[0m     \u001b[38;5;66;03m# walk the nested dict\u001b[39;00m\n\u001b[1;32m    138\u001b[0m     root, k \u001b[38;5;241m=\u001b[39m _get_root(key)\n",
      "File \u001b[0;32m~/.local/lib/python3.8/site-packages/pandas/_config/config.py:121\u001b[0m, in \u001b[0;36m_get_single_key\u001b[0;34m(pat, silent)\u001b[0m\n\u001b[1;32m    119\u001b[0m     \u001b[38;5;28;01mif\u001b[39;00m \u001b[38;5;129;01mnot\u001b[39;00m silent:\n\u001b[1;32m    120\u001b[0m         _warn_if_deprecated(pat)\n\u001b[0;32m--> 121\u001b[0m     \u001b[38;5;28;01mraise\u001b[39;00m OptionError(\u001b[38;5;124mf\u001b[39m\u001b[38;5;124m\"\u001b[39m\u001b[38;5;124mNo such keys(s): \u001b[39m\u001b[38;5;132;01m{\u001b[39;00m\u001b[38;5;28mrepr\u001b[39m(pat)\u001b[38;5;132;01m}\u001b[39;00m\u001b[38;5;124m\"\u001b[39m)\n\u001b[1;32m    122\u001b[0m \u001b[38;5;28;01mif\u001b[39;00m \u001b[38;5;28mlen\u001b[39m(keys) \u001b[38;5;241m>\u001b[39m \u001b[38;5;241m1\u001b[39m:\n\u001b[1;32m    123\u001b[0m     \u001b[38;5;28;01mraise\u001b[39;00m OptionError(\u001b[38;5;124m\"\u001b[39m\u001b[38;5;124mPattern matched multiple keys\u001b[39m\u001b[38;5;124m\"\u001b[39m)\n",
      "\u001b[0;31mOptionError\u001b[0m: \"No such keys(s): 'mode.use_inf_as_null'\""
     ]
    },
    {
     "data": {
      "image/png": "[encoded data removed]",
      "text/plain": [
       "<Figure size 1200x400 with 2 Axes>"
      ]
     },
     "metadata": {},
     "output_type": "display_data"
    }
   ],
   "source": [
    "fig, ax = plt.subplots(figsize=(12, 4), nrows=1, ncols=2, facecolor='white')\n",
    "\n",
    "ax[0].set_title(\"Histogram of Quantity Where Discount = 0\")\n",
    "ax[0].set_xlabel(\"Quantity\")\n",
    "ax[0].set_ylabel(\"Frequency\")\n",
    "sns.histplot(x, bins= 14, kde=True, ax=ax[0])\n",
    "\n",
    "ax[1].set_title(\"Histogram of Quantity Where Discount != 0\")\n",
    "ax[1].set_xlabel(\"Quantity\")\n",
    "ax[1].set_ylabel(\"Frequency\")\n",
    "sns.histplot(y, bins= 14, kde=True, ax=ax[1])\n",
    "\n",
    "plt.tight_layout()\n",
    "plt.show()"
   ]
  },
  {
   "cell_type": "code",
   "execution_count": 5,
   "id": "dbe44cc1",
   "metadata": {},
   "outputs": [
    {
     "data": {
      "image/png": "[encoded data removed]",
      "text/plain": [
       "<Figure size 1200x400 with 2 Axes>"
      ]
     },
     "metadata": {},
     "output_type": "display_data"
    }
   ],
   "source": [
    "fig, ax = plt.subplots(figsize=(12, 4), nrows=1, ncols=2, facecolor='white')\n",
    "ax[0].hist(x, bins=14, edgecolor='black')\n",
    "ax[0].set_title(\"Histogram of Quantity Where Discount = 0\")\n",
    "ax[0].set_xlabel(\"Quantity\")\n",
    "ax[0].set_ylabel(\"Frequency\")\n",
    "    \n",
    "ax[1].hist(y, bins= 14, edgecolor='black')\n",
    "ax[1].set_title(\"Histogram of Quantity Where Discount != 0\")\n",
    "ax[1].set_xlabel(\"Quantity\")\n",
    "ax[1].set_ylabel(\"Frequency\")\n",
    "\n",
    "plt.show()"
   ]
  },
  {
   "cell_type": "code",
   "execution_count": 6,
   "id": "048d0f6b",
   "metadata": {},
   "outputs": [
    {
     "name": "stdout",
     "output_type": "stream",
     "text": [
      "3.3957940433405684\n",
      "3.5685074419251634\n"
     ]
    }
   ],
   "source": [
    "x = np.array(x)\n",
    "y = np.array(y)\n",
    "print(x.mean())\n",
    "print(y.mean())"
   ]
  },
  {
   "cell_type": "markdown",
   "id": "aad8f7f2",
   "metadata": {},
   "source": [
    "<p dir=rtl style=\"direction: rtl;text-align: justify;line-height:200%;font-family:vazir;font-size:medium\">\n",
    "<font face=\"vazir\" size=3>\n",
    "<span style=\"color:purple\"><b>مرحله چهارم:  </b></span>\n",
    "    حال با بررسی نمودار و میانگین‌ها می‌بینیم که در دسته تخفیف‌دارها به صورت میانگین تعداد فروش ببیشتر است. حال با استفاده از آزمون ttest بررسی می‌کنیم چقدر امکان وجود دارد که توزیع دو دسته یکسان باشد ولی همچین داده‌هایی به وجود بیاید.\n",
    "</font>\n",
    "</p>"
   ]
  },
  {
   "cell_type": "code",
   "execution_count": 7,
   "id": "9186195d",
   "metadata": {},
   "outputs": [
    {
     "name": "stdout",
     "output_type": "stream",
     "text": [
      "-8.39266716365362\n"
     ]
    }
   ],
   "source": [
    "x_n = len(x)\n",
    "y_n = len(y)\n",
    "x_m = x.mean()\n",
    "y_m = y.mean()\n",
    "std_x = math.sqrt(((x-x_m)**2).sum()/(x_n-1))\n",
    "std_y = math.sqrt(((y-y_m)**2).sum()/(y_n-1))\n",
    "sp = math.sqrt(((x_n-1)*(std_x**2)+(y_n-1)*(std_y**2))/(x_n+y_n-2))\n",
    "t_value = (x_m-y_m)/(sp*math.sqrt((1/x_n)+(1/y_n)))\n",
    "print(t_value)"
   ]
  },
  {
   "cell_type": "code",
   "execution_count": 8,
   "id": "b9755d3b",
   "metadata": {},
   "outputs": [
    {
     "name": "stdout",
     "output_type": "stream",
     "text": [
      "(-8.029601411475701, 8.044058509206634)\n"
     ]
    }
   ],
   "source": [
    "print(st.t.interval(0.999999999999999, df=x_n+y_n-2, loc=0, scale=1))"
   ]
  },
  {
   "cell_type": "markdown",
   "id": "deba996d",
   "metadata": {},
   "source": [
    "<p dir=rtl style=\"direction: rtl;text-align: justify;line-height:200%;font-family:vazir;font-size:medium\">\n",
    "<font face=\"vazir\" size=3>\n",
    "<span style=\"color:purple\"><b>نتیجه:  </b></span>\n",
    "    با توجه به آزمون ttest انجام شده، متوجه شدیم که با احتمال تقریبا نزدیک به یک می‌توانیم بگوییم در دسته کالا‌های تخفیف‌دار میزان تعداد فروش بیشتر است.\n",
    "</font>\n",
    "</p>"
   ]
  }
 ],
 "metadata": {
  "kernelspec": {
   "display_name": "Python 3 (ipykernel)",
   "language": "python",
   "name": "python3"
  },
  "language_info": {
   "codemirror_mode": {
    "name": "ipython",
    "version": 3
   },
   "file_extension": ".py",
   "mimetype": "text/x-python",
   "name": "python",
   "nbconvert_exporter": "python",
   "pygments_lexer": "ipython3",
   "version": "3.8.10"
  }
 },
 "nbformat": 4,
 "nbformat_minor": 5
}
